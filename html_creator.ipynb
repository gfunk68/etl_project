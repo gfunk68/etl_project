{
 "cells": [
  {
   "cell_type": "code",
   "execution_count": 1,
   "metadata": {},
   "outputs": [],
   "source": [
    "#Load dependencies\n",
    "import pandas as pd\n",
    "import datetime as dt\n",
    "from sqlalchemy import create_engine\n",
    "\n",
    "#Define data files to import\n",
    "houstonpopulationrawdata='raw_data/houston_population.csv'\n",
    "houstonenergyemployeesrawdata='raw_data/houston_energy_employees.csv'\n",
    "houstonemployeesrawdata='raw_data/houston_employees.csv'\n",
    "housing_data = 'raw_data/houston_housing.csv'\n",
    "\n",
    "#Read data files into Panda data frames\n",
    "houstonenergyemployeesdata=pd.read_csv(houstonenergyemployeesrawdata,parse_dates=['DATE'])\n",
    "houstonpopulationdata=pd.read_csv(houstonpopulationrawdata, parse_dates=['DATE'])\n",
    "houstonemployeesdata=pd.read_csv(houstonemployeesrawdata,parse_dates=['DATE'])\n",
    "housing_raw = pd.read_csv(housing_data, parse_dates=['DATE'])\n",
    "oilprices = pd.read_html('https://www.macrotrends.net/1369/crude-oil-price-history-chart')\n",
    "oilprices_df = oilprices[0]\n",
    "oilprices_df = oilprices_df.droplevel(level=0, axis=1)"
   ]
  },
  {
   "cell_type": "code",
   "execution_count": 2,
   "metadata": {},
   "outputs": [],
   "source": [
    "#Calculate employee data by year by using the mean of the monthly employee data\n",
    "houstonemp_df=pd.DataFrame(houstonemployeesdata.groupby(houstonemployeesdata['DATE'].dt.year)['HOUS448NA'].mean()*1000)\n",
    "houstonengyemp_df=pd.DataFrame(houstonenergyemployeesdata.groupby(houstonenergyemployeesdata['DATE'].dt.year)['SMU48264201021100001A'].mean()*1000)\n",
    "housing_df = pd.DataFrame(housing_raw.groupby(housing_raw['DATE'].dt.year)['ATNHPIUS26420Q'].mean().reset_index())\n",
    "\n"
   ]
  },
  {
   "cell_type": "code",
   "execution_count": 3,
   "metadata": {},
   "outputs": [],
   "source": [
    "#renaming columns and setting index for houston employees\n",
    "houstonemp_df=houstonemp_df.rename_axis('year').rename(columns={'HOUS448NA':'employees'}).astype(int)\n",
    "houstonengyemp_df=houstonengyemp_df.rename_axis('year').rename(columns={'SMU48264201021100001A':'employees'}).astype(int)\n",
    "\n",
    "#renaming columns and setting index for houston population\n",
    "houstonpopulationdata['year'] = houstonpopulationdata['DATE'].dt.year\n",
    "houstonpopulationdata['population'] = houstonpopulationdata['HTNPOP'] * 1000\n",
    "houstonpop_df = houstonpopulationdata[['year', 'population']]\n",
    "houstonpop_df = houstonpop_df.set_index('year')\n",
    "houstonpop_df['population'] = houstonpop_df['population'].astype(int)\n",
    "\n",
    "\n",
    "#renaming columns and setting index for houston housing\n",
    "housing_df = housing_df.rename(columns={\"DATE\": \"year\", \"ATNHPIUS26420Q\": \"housing_price_index\"})\n",
    "housing_df = housing_df.set_index('year')\n",
    "\n",
    "#renaming columns and setting index for oil prices\n",
    "oilprices_df = oilprices_df[['Year', 'AverageClosing Price']]\n",
    "oilprices_df = oilprices_df.rename(columns={\"Year\": \"year\", \"AverageClosing Price\": \"oilprice_usd\"})\n",
    "oilprices_df = oilprices_df.set_index('year')\n",
    "oilprices_df = oilprices_df.rename(columns={\"Year\": \"year\", \"AverageClosing Price\": \"oilprice\"})\n",
    "oilprices_df ['oilprice_usd'] = oilprices_df['oilprice_usd'].str.replace('$',\"\")"
   ]
  },
  {
   "cell_type": "code",
   "execution_count": 4,
   "metadata": {},
   "outputs": [],
   "source": [
    "#merged_df = pd.concat([oilprices_df,housing_df,houstonpop_df,houstonengyemp_df,houstonemp_df], sort=True)\n",
    "merged1 = pd.merge(houstonemp_df, houstonengyemp_df, left_index=True, right_index=True, how='inner')\n",
    "merged2 = pd.merge(merged1, housing_df, left_index=True, right_index=True, how='inner')\n",
    "merged3 = pd.merge(merged2, oilprices_df, left_index=True, right_index=True, how='inner')\n",
    "merged_df = pd.merge(merged3, houstonpop_df, left_index=True, right_index=True, how='inner')"
   ]
  },
  {
   "cell_type": "code",
   "execution_count": 5,
   "metadata": {},
   "outputs": [],
   "source": [
    "stats_table = merged_df.to_html()"
   ]
  },
  {
   "cell_type": "code",
   "execution_count": 6,
   "metadata": {},
   "outputs": [],
   "source": [
    "merged_df.to_html('data.html')"
   ]
  },
  {
   "cell_type": "code",
   "execution_count": null,
   "metadata": {},
   "outputs": [],
   "source": []
  }
 ],
 "metadata": {
  "kernelspec": {
   "display_name": "Python 3",
   "language": "python",
   "name": "python3"
  },
  "language_info": {
   "codemirror_mode": {
    "name": "ipython",
    "version": 3
   },
   "file_extension": ".py",
   "mimetype": "text/x-python",
   "name": "python",
   "nbconvert_exporter": "python",
   "pygments_lexer": "ipython3",
   "version": "3.7.3"
  }
 },
 "nbformat": 4,
 "nbformat_minor": 4
}
