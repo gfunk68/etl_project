{
 "cells": [
  {
   "cell_type": "code",
   "execution_count": 1,
   "metadata": {},
   "outputs": [],
   "source": [
    "#Load dependencies\n",
    "import pandas as pd\n",
    "import datetime as dt\n",
    "from sqlalchemy import create_engine\n",
    "\n",
    "#Define data files to import\n",
    "houstonenergyemployeesrawdata='raw_data/houston_energy_employees.csv'\n",
    "\n",
    "#Read data files into Panda data frames\n",
    "houstonenergyemployeesdata=pd.read_csv(houstonenergyemployeesrawdata,parse_dates=['DATE'])"
   ]
  },
  {
   "cell_type": "code",
   "execution_count": 2,
   "metadata": {},
   "outputs": [],
   "source": [
    "dbuser = 'postgres'\n",
    "dbpassword = 'postgres'\n",
    "dbhost = 'localhost'\n",
    "dbport = '5432'\n",
    "dbname= 'houston_statistics_db'\n",
    "\n",
    "engine = create_engine(f\"postgres://{dbuser}:{dbpassword}@{dbhost}:{dbport}/{dbname}\")"
   ]
  },
  {
   "cell_type": "code",
   "execution_count": 3,
   "metadata": {},
   "outputs": [
    {
     "data": {
      "text/plain": [
       "SMU48264201021100001A    float64\n",
       "dtype: object"
      ]
     },
     "execution_count": 3,
     "metadata": {},
     "output_type": "execute_result"
    }
   ],
   "source": [
    "#Calculate employee data by year by using the mean of the monthly employee data\n",
    "houstonengyemp_df=pd.DataFrame(houstonenergyemployeesdata.groupby(houstonenergyemployeesdata['DATE'].dt.year)['SMU48264201021100001A'].mean()*1000)\n",
    "houstonengyemp_df.dtypes"
   ]
  },
  {
   "cell_type": "code",
   "execution_count": 4,
   "metadata": {},
   "outputs": [],
   "source": [
    "#Rename index and column\n",
    "houstonengyemp_df=houstonengyemp_df.rename_axis('year').rename(columns={'SMU48264201021100001A':'employees'}).astype(int)"
   ]
  },
  {
   "cell_type": "code",
   "execution_count": 6,
   "metadata": {},
   "outputs": [],
   "source": [
    "houstonengyemp_df.to_sql('energy_extraction_employees',con=engine,if_exists='append',index = True)"
   ]
  },
  {
   "cell_type": "code",
   "execution_count": null,
   "metadata": {},
   "outputs": [],
   "source": []
  }
 ],
 "metadata": {
  "kernelspec": {
   "display_name": "Python 3",
   "language": "python",
   "name": "python3"
  },
  "language_info": {
   "codemirror_mode": {
    "name": "ipython",
    "version": 3
   },
   "file_extension": ".py",
   "mimetype": "text/x-python",
   "name": "python",
   "nbconvert_exporter": "python",
   "pygments_lexer": "ipython3",
   "version": "3.7.3"
  }
 },
 "nbformat": 4,
 "nbformat_minor": 4
}
