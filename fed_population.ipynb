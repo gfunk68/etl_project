{
 "cells": [
  {
   "cell_type": "code",
   "execution_count": 1,
   "metadata": {},
   "outputs": [],
   "source": [
    "#Load dependencies\n",
    "import os\n",
    "import pandas as pd\n",
    "import datetime as dt\n",
    "\n",
    "#Define data files to import\n",
    "houstonemployeesrawdata='raw_data/houston_employees.csv'\n",
    "houstonenergyemployeesrawdata='raw_data/houston_energy_employees.csv'\n",
    "houstonhousingrawdata='raw_data/houston_housing.csv'\n",
    "houstonpopulationrawdata='raw_data/houston_population.csv'\n",
    "\n",
    "#Read data files into Panda data frames\n",
    "houstonemployeesdata=pd.read_csv(houstonemployeesrawdata)\n",
    "houstonenergyemployeesdata=pd.read_csv(houstonenergyemployeesrawdata)\n",
    "houstonhousingdata=pd.read_csv(houstonhousingrawdata)\n",
    "houstonpopulationdata=pd.read_csv(houstonpopulationrawdata)"
   ]
  },
  {
   "cell_type": "code",
   "execution_count": null,
   "metadata": {},
   "outputs": [],
   "source": []
  }
 ],
 "metadata": {
  "kernelspec": {
   "display_name": "Python 3",
   "language": "python",
   "name": "python3"
  },
  "language_info": {
   "codemirror_mode": {
    "name": "ipython",
    "version": 3
   },
   "file_extension": ".py",
   "mimetype": "text/x-python",
   "name": "python",
   "nbconvert_exporter": "python",
   "pygments_lexer": "ipython3",
   "version": "3.7.4"
  }
 },
 "nbformat": 4,
 "nbformat_minor": 4
}
