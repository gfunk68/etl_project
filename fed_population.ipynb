{
 "cells": [
  {
   "cell_type": "code",
   "execution_count": 2,
   "metadata": {},
   "outputs": [],
   "source": [
    "#Load dependencies\n",
    "import pandas as pd\n",
    "import datetime as dt\n",
    "from sqlalchemy import create_engine\n",
    "\n",
    "#Define data files to import\n",
    "houstonpopulationrawdata='raw_data/houston_population.csv'\n",
    "\n",
    "#Read data files into Panda data frames\n",
    "houstonpopulationdata=pd.read_csv(houstonpopulationrawdata, parse_dates=['DATE'])"
   ]
  },
  {
   "cell_type": "code",
   "execution_count": 3,
   "metadata": {},
   "outputs": [],
   "source": [
    "dbuser = 'postgres'\n",
    "dbpassword = 'pimpin'\n",
    "dbhost = 'localhost'\n",
    "dbport = '5432'\n",
    "dbname= 'houston_statistics_db'\n",
    "\n",
    "engine = create_engine(f\"postgres://{dbuser}:{dbpassword}@{dbhost}:{dbport}/{dbname}\")"
   ]
  },
  {
   "cell_type": "code",
   "execution_count": 4,
   "metadata": {},
   "outputs": [],
   "source": [
    "houstonpopulationdata['year'] = houstonpopulationdata['DATE'].dt.year"
   ]
  },
  {
   "cell_type": "code",
   "execution_count": 5,
   "metadata": {},
   "outputs": [],
   "source": [
    "houstonpopulationdata['population'] = houstonpopulationdata['HTNPOP'] * 1000"
   ]
  },
  {
   "cell_type": "code",
   "execution_count": 6,
   "metadata": {},
   "outputs": [],
   "source": [
    "houstonpop_df = houstonpopulationdata[['year', 'population']]"
   ]
  },
  {
   "cell_type": "code",
   "execution_count": 7,
   "metadata": {},
   "outputs": [],
   "source": [
    "houstonpop_df = houstonpop_df.set_index('year')"
   ]
  },
  {
   "cell_type": "code",
   "execution_count": 8,
   "metadata": {},
   "outputs": [],
   "source": [
    "houstonpop_df['population'] = houstonpop_df['population'].astype(int)"
   ]
  },
  {
   "cell_type": "code",
   "execution_count": 10,
   "metadata": {},
   "outputs": [],
   "source": [
    "houstonpop_df.to_sql('population',con=engine,if_exists='append',index = True)"
   ]
  },
  {
   "cell_type": "code",
   "execution_count": null,
   "metadata": {},
   "outputs": [],
   "source": []
  }
 ],
 "metadata": {
  "kernelspec": {
   "display_name": "Python 3",
   "language": "python",
   "name": "python3"
  },
  "language_info": {
   "codemirror_mode": {
    "name": "ipython",
    "version": 3
   },
   "file_extension": ".py",
   "mimetype": "text/x-python",
   "name": "python",
   "nbconvert_exporter": "python",
   "pygments_lexer": "ipython3",
   "version": "3.7.3-final"
  }
 },
 "nbformat": 4,
 "nbformat_minor": 4
}